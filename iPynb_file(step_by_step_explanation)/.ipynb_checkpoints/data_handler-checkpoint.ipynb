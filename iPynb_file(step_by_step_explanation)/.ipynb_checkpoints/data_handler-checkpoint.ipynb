{
 "cells": [
  {
   "cell_type": "code",
   "execution_count": 1,
   "metadata": {},
   "outputs": [
    {
     "name": "stdout",
     "output_type": "stream",
     "text": [
      "Getting files..\n",
      "buisness type files\n",
      "entertainment type files\n",
      "politics type files\n",
      "sport type files\n",
      " tech type files\n"
     ]
    }
   ],
   "source": [
    "#importing Libraries\n",
    "from datetime import datetime\n",
    "start =datetime.now()\n",
    "\n",
    "import pandas as pd  #for Dataframe\n",
    "import glob #for reading dataset files \n",
    "\n",
    "#Datapreprocessing part\n",
    "print(\"Getting files..\")\n",
    "print(\"buisness type files\")\n",
    "buisness=(glob.glob(\"../data/buisness/*.txt\"))\n",
    "\n",
    "print(\"entertainment type files\")\n",
    "\n",
    "entertainment=(glob.glob(\"../data/entertainment/*.txt\"))\n",
    "print(\"politics type files\")\n",
    "politics=(glob.glob(\"../data/politics/*.txt\"))\n",
    "\n",
    "print(\"sport type files\")\n",
    "sport=(glob.glob(\"../data/sport/*.txt\"))\n",
    "\n",
    "print(\" tech type files\")\n",
    "tech=(glob.glob(\"../data/tech/*.txt\"))\n",
    "\n",
    "#meta veriables for the Dataframe\n",
    "category = []\n",
    "file_name =[]\n",
    "title = []\n",
    "content = []\n"
   ]
  },
  {
   "cell_type": "code",
   "execution_count": 2,
   "metadata": {},
   "outputs": [
    {
     "name": "stdout",
     "output_type": "stream",
     "text": [
      "Creating business data...\n",
      "Creating entertainment data...\n",
      "Creating politics data...\n",
      "Creating sport data...\n",
      "ERROR!\n",
      "sport\n",
      "Mourinho expects fight to finish\n",
      "../data/sport/199.txt\n",
      "Chelsea manager Jose Mourinho expects the Champions League clash with Barcelona to be a fight to the finish.Mourinho is relishing the first leg of the tie against his former club in the last 16 in the Nou Camp. He said: \"I wouldn't be surprised if nothing had been decided by the last minute of the return leg and the match had to go into extra time. \"I have to defend what is mine and the Champions League is mine at the moment. I'm the last manager to have won it.\" Mourinho never coached Barcelona, assisting both Sir Bobby Robson and Louis van Gaal. But he is not envious, insisting: \"I don't have to be jealous about Barcelona because they have 100 years of history and have won the European Cup once.\"I have been managing for five years and I have the same amount of Champions League trophies to my name.\" Barcelona star Ronaldinho admitted: \"I think that it is going to be a difficult match for us because Chelsea have a good team full of big stars. \"I have seen Chelsea a few times on television, tactically they are very good and they are very strong on the counter-attack. \"They pressure very well and keep possession of the ball so it will be important that we play our own game. \"I believe they are the two strongest teams in Europe. Nevertheless, Barcelona are accustomed to playing big games at the Nou Camp, where they have to face the likes of Real Madrid each season. \"It is a special game, the atmosphere in the city changes, there are lots of journalists but inside the dressing room there is not a lot of difference,\" Ronaldinho added. \"We are only thinking of winning the match with all respect to the opposition.\"\n",
      "183.txt\n",
      "Mourinho expects fight to finish\n",
      "Chelsea manager Jose Mourinho expects the Champions League clash with Barcelona to be a fight to the finish.Mourinho is relishing the first leg of the tie against his former club in the last 16 in the Nou Camp. He said: \"I wouldn't be surprised if nothing had been decided by the last minute of the return leg and the match had to go into extra time. \"I have to defend what is mine and the Champions League is mine at the moment. I'm the last manager to have won it.\" Mourinho never coached Barcelona, assisting both Sir Bobby Robson and Louis van Gaal. But he is not envious, insisting: \"I don't have to be jealous about Barcelona because they have 100 years of history and have won the European Cup once.\"I have been managing for five years and I have the same amount of Champions League trophies to my name.\" Barcelona star Ronaldinho admitted: \"I think that it is going to be a difficult match for us because Chelsea have a good team full of big stars. \"I have seen Chelsea a few times on television, tactically they are very good and they are very strong on the counter-attack. \"They pressure very well and keep possession of the ball so it will be important that we play our own game. \"I believe they are the two strongest teams in Europe. Nevertheless, Barcelona are accustomed to playing big games at the Nou Camp, where they have to face the likes of Real Madrid each season. \"It is a special game, the atmosphere in the city changes, there are lots of journalists but inside the dressing room there is not a lot of difference,\" Ronaldinho added. \"We are only thinking of winning the match with all respect to the opposition.\"\n",
      "'utf-8' codec can't decode byte 0xa3 in position 257: invalid start byte\n",
      "Creating tech data...\n",
      "Cate\tFile\tTitle\tContent\n",
      "1714\t1714\t1714\t1714\n"
     ]
    }
   ],
   "source": [
    "def Create_Data(cate):\n",
    "    #Filter\n",
    "    \n",
    "    print(\"Creating \"+cate+\" data...\")\n",
    "    if(cate is 'business'):\n",
    "        field = buisness\n",
    "    if(cate is 'entertainment'):\n",
    "        field = entertainment\n",
    "    if(cate is 'politics'):\n",
    "        field = politics\n",
    "    if(cate is 'sport'):\n",
    "        field = sport\n",
    "    if(cate is 'tech'):\n",
    "        field = tech\n",
    "    for textfile in field:\n",
    "        try :\n",
    "            with open(textfile) as f:\n",
    "                rawcontentarray = f.read().splitlines()\n",
    "                rawcontent = \"\"\n",
    "                title.append(rawcontentarray[0])\n",
    "                for i in range(2,len(rawcontentarray)):\n",
    "                    rawcontent+=rawcontentarray[i]\n",
    "                content.append(rawcontent)\n",
    "                category.append(cate)\n",
    "                file_name.append(textfile[textfile.rfind('/')+1:])\n",
    "        except Exception as error:\n",
    "            print(\"ERROR!\")\n",
    "            print(cate)\n",
    "            print(rawcontentarray[0])\n",
    "            print(textfile)\n",
    "            print(rawcontent)\n",
    "            print(file_name[-1])\n",
    "            print(title[-1])\n",
    "            print(content[-1])\n",
    "            print(error)\n",
    "\n",
    "Create_Data(\"business\")\n",
    "Create_Data(\"entertainment\")\n",
    "Create_Data(\"politics\")\n",
    "Create_Data(\"sport\")\n",
    "Create_Data(\"tech\")\n",
    "\n",
    "print(\"Cate\\tFile\\tTitle\\tContent\")\n",
    "print(str(len(category))+\"\\t\"+str(len(file_name))+\"\\t\"+str(len(title))+\"\\t\"+str(len(content)))"
   ]
  },
  {
   "cell_type": "code",
   "execution_count": 3,
   "metadata": {},
   "outputs": [
    {
     "name": "stdout",
     "output_type": "stream",
     "text": [
      "Data creation Successfull !\n",
      "Importing Data ...\n",
      "Exporting Data\n",
      "Done\n"
     ]
    }
   ],
   "source": [
    "#check extractedData\n",
    "if (len(category)==len(file_name)==len(title)==len(content)):\n",
    "    print(\"Data creation Successfull !\")\n",
    "else :\n",
    "    print(\"Unsuccessfull data Creation !\")\n",
    "#import data to dataset\n",
    "print(\"Importing Data ...\")\n",
    "dataSet=list(zip(category,file_name,title,content))\n",
    "dataFrame=pd.DataFrame(data=dataSet,columns=['category','filename','title','content'])\n",
    "print(\"Exporting Data\")\n",
    "dataFrame.to_csv('data.csv',index=False,header=True)\n",
    "print(\"Done\")"
   ]
  },
  {
   "cell_type": "code",
   "execution_count": 4,
   "metadata": {},
   "outputs": [],
   "source": [
    "createdatetime=datetime.now()-start\n",
    "dataFrame['category_id']=dataFrame['category'].factorize()[0]\n",
    "category_id_dataFrame=dataFrame[['category','category_id']].drop_duplicates().sort_values('category_id')\n",
    "category_to_id=dict(category_id_dataFrame.values)\n",
    "id_to_categories=dict(category_id_dataFrame[['category_id','category']].values)\n"
   ]
  },
  {
   "cell_type": "markdown",
   "metadata": {},
   "source": [
    "Data Exploration\n",
    "---"
   ]
  },
  {
   "cell_type": "code",
   "execution_count": 5,
   "metadata": {},
   "outputs": [
    {
     "data": {
      "text/html": [
       "<div>\n",
       "<style scoped>\n",
       "    .dataframe tbody tr th:only-of-type {\n",
       "        vertical-align: middle;\n",
       "    }\n",
       "\n",
       "    .dataframe tbody tr th {\n",
       "        vertical-align: top;\n",
       "    }\n",
       "\n",
       "    .dataframe thead th {\n",
       "        text-align: right;\n",
       "    }\n",
       "</style>\n",
       "<table border=\"1\" class=\"dataframe\">\n",
       "  <thead>\n",
       "    <tr style=\"text-align: right;\">\n",
       "      <th></th>\n",
       "      <th>category</th>\n",
       "      <th>filename</th>\n",
       "      <th>title</th>\n",
       "      <th>content</th>\n",
       "      <th>category_id</th>\n",
       "    </tr>\n",
       "  </thead>\n",
       "  <tbody>\n",
       "    <tr>\n",
       "      <th>0</th>\n",
       "      <td>entertainment</td>\n",
       "      <td>288.txt</td>\n",
       "      <td>Rapper 50 Cent ends protege feud</td>\n",
       "      <td>Rapper 50 Cent has ended his public feud with ...</td>\n",
       "      <td>0</td>\n",
       "    </tr>\n",
       "    <tr>\n",
       "      <th>1</th>\n",
       "      <td>entertainment</td>\n",
       "      <td>230.txt</td>\n",
       "      <td>Aaliyah claim dismissed by court</td>\n",
       "      <td>Late R&amp;B star Aaliyah's record company has fai...</td>\n",
       "      <td>0</td>\n",
       "    </tr>\n",
       "    <tr>\n",
       "      <th>2</th>\n",
       "      <td>entertainment</td>\n",
       "      <td>152.txt</td>\n",
       "      <td>Beatles suits sell for $110,000</td>\n",
       "      <td>Four suits worn by the Beatles on their Please...</td>\n",
       "      <td>0</td>\n",
       "    </tr>\n",
       "    <tr>\n",
       "      <th>3</th>\n",
       "      <td>entertainment</td>\n",
       "      <td>326.txt</td>\n",
       "      <td>Oscars steer clear of controversy</td>\n",
       "      <td>The Oscars nominations list has left out some ...</td>\n",
       "      <td>0</td>\n",
       "    </tr>\n",
       "    <tr>\n",
       "      <th>4</th>\n",
       "      <td>entertainment</td>\n",
       "      <td>373.txt</td>\n",
       "      <td>British stars denied major Oscars</td>\n",
       "      <td>British hopes of winning major Oscars were das...</td>\n",
       "      <td>0</td>\n",
       "    </tr>\n",
       "  </tbody>\n",
       "</table>\n",
       "</div>"
      ],
      "text/plain": [
       "        category filename                              title  \\\n",
       "0  entertainment  288.txt   Rapper 50 Cent ends protege feud   \n",
       "1  entertainment  230.txt   Aaliyah claim dismissed by court   \n",
       "2  entertainment  152.txt    Beatles suits sell for $110,000   \n",
       "3  entertainment  326.txt  Oscars steer clear of controversy   \n",
       "4  entertainment  373.txt  British stars denied major Oscars   \n",
       "\n",
       "                                             content  category_id  \n",
       "0  Rapper 50 Cent has ended his public feud with ...            0  \n",
       "1  Late R&B star Aaliyah's record company has fai...            0  \n",
       "2  Four suits worn by the Beatles on their Please...            0  \n",
       "3  The Oscars nominations list has left out some ...            0  \n",
       "4  British hopes of winning major Oscars were das...            0  "
      ]
     },
     "execution_count": 5,
     "metadata": {},
     "output_type": "execute_result"
    }
   ],
   "source": [
    "dataFrame.sample(5,random_state=0)\n",
    "dataFrame.groupby('category').filename.count().plot.bar(ylim=0)\n",
    "dataFrame.head()"
   ]
  },
  {
   "cell_type": "markdown",
   "metadata": {},
   "source": [
    "Data Preprocessing\n",
    "---\n",
    "in this part we convert the text of the documents to find Term Frequency , Inverse Document Frequency , abbreviated to tf-idf ; which will represent a words' importance in each document.\n",
    "\n",
    "`sublinear_df` is set to `True` to use log form for frequency , to give diminishing returns as the frequency of a word increases.\n",
    "\n",
    "`min_dif` is the min. numbers of documents a word must be present in to be kept , this is to avoid rare words \n",
    "\n",
    "`norm` is set to `12`\n",
    "\n",
    "`encoding` is set to `latin-1` which is used in the training document.\n",
    "\n",
    "`ngram_rage` is set to `(1,2)` to indicate that we want to consider both unigrams and bigrams or in other terms \n",
    "\n",
    "`stop_words` is set to `english` to remove all common pronouns and further reduce the number of noisy features.\n",
    "\n"
   ]
  },
  {
   "cell_type": "code",
   "execution_count": 6,
   "metadata": {},
   "outputs": [
    {
     "data": {
      "text/plain": [
       "(1714, 11841)"
      ]
     },
     "execution_count": 6,
     "metadata": {},
     "output_type": "execute_result"
    }
   ],
   "source": [
    "from sklearn.feature_extraction.text import TfidfVectorizer #will be used to calculate 'tf-idf' vector for each of our documents\n",
    "\n",
    "tfidf=TfidfVectorizer(sublinear_tf=True,min_df=5,norm='l2',encoding='latin-1',ngram_range=(1,2),stop_words='english')\n",
    "\n",
    "features=tfidf.fit_transform(dataFrame.content).toarray()\n",
    "labels=dataFrame.category_id\n",
    "features.shape"
   ]
  },
  {
   "cell_type": "code",
   "execution_count": 7,
   "metadata": {},
   "outputs": [
    {
     "name": "stdout",
     "output_type": "stream",
     "text": [
      "# 'entertainment':\n",
      " .Most correlated unigrams :\n",
      "     . singer\n",
      "actor\n",
      "film\n",
      " .Most correlated unigrams :\n",
      "     . film festival\n",
      "los angeles\n",
      "box office\n",
      "# 'politics':\n",
      " .Most correlated unigrams :\n",
      "     . government\n",
      "election\n",
      "labour\n",
      " .Most correlated unigrams :\n",
      "     . tony blair\n",
      "prime minister\n",
      "mr blair\n",
      "# 'sport':\n",
      " .Most correlated unigrams :\n",
      "     . coach\n",
      "match\n",
      "cup\n",
      " .Most correlated unigrams :\n",
      "     . grand slam\n",
      "australian open\n",
      "champions league\n",
      "# 'tech':\n",
      " .Most correlated unigrams :\n",
      "     . software\n",
      "technology\n",
      "users\n",
      " .Most correlated unigrams :\n",
      "     . anti virus\n",
      "mobile phones\n",
      "mobile phone\n"
     ]
    }
   ],
   "source": [
    "from sklearn.feature_selection import chi2\n",
    "import numpy as np\n",
    "\n",
    "N=3\n",
    "for category, category_id in sorted(category_to_id.items()):\n",
    "    features_chi2=chi2(features,labels==category_id)\n",
    "    indices=np.argsort(features_chi2[0])\n",
    "    features_names=np.array(tfidf.get_feature_names())[indices]\n",
    "    unigrams = [v for v in features_names if len(v.split(' '))==1]\n",
    "    bigrams = [v for v in features_names if len(v.split(' '))==2]\n",
    "    print(\"# '{}':\".format(category))\n",
    "    print(\" .Most correlated unigrams :\\n     . {}\".format('\\n'.join(unigrams[-N:])))\n",
    "    print(\" .Most correlated unigrams :\\n     . {}\".format('\\n'.join(bigrams[-N:])))"
   ]
  },
  {
   "cell_type": "code",
   "execution_count": 8,
   "metadata": {},
   "outputs": [
    {
     "data": {
      "image/png": "[encoded data removed]",
      "text/plain": [
       "<Figure size 432x288 with 1 Axes>"
      ]
     },
     "metadata": {
      "needs_background": "light"
     },
     "output_type": "display_data"
    }
   ],
   "source": [
    "from sklearn.manifold import TSNE\n",
    "import matplotlib.pyplot as plt\n",
    "\n",
    "Sample_SIZE=int(len(features)*0.3)\n",
    "np.random.seed(0)\n",
    "indices = np.random.choice(range(len(features)),size=Sample_SIZE,replace=False)\n",
    "projected_features=TSNE(n_components=2,random_state=0).fit_transform(features[indices])\n",
    "colors=['pink','green','midnightblue','orange','darkgrey']\n",
    "for category,category_id in sorted(category_to_id.items()):\n",
    "    points=projected_features[(labels[indices]==category_id).values]\n",
    "    plt.scatter(points[:, 0], points[:, 1], s=30, c=colors[category_id], label=category)\n",
    "    plt.title(\"tf-idf feature vector of each article in 2D\",fontdict=dict(fontsize=15))\n",
    "    plt.legend()\n"
   ]
  },
  {
   "cell_type": "markdown",
   "metadata": {},
   "source": [
    "Test for the `Outliers`\n",
    "---\n",
    "`Arsenal` a sports club is in middle of the sport cluster"
   ]
  },
  {
   "cell_type": "code",
   "execution_count": 10,
   "metadata": {},
   "outputs": [
    {
     "data": {
      "text/html": [
       "<div>\n",
       "<style scoped>\n",
       "    .dataframe tbody tr th:only-of-type {\n",
       "        vertical-align: middle;\n",
       "    }\n",
       "\n",
       "    .dataframe tbody tr th {\n",
       "        vertical-align: top;\n",
       "    }\n",
       "\n",
       "    .dataframe thead th {\n",
       "        text-align: right;\n",
       "    }\n",
       "</style>\n",
       "<table border=\"1\" class=\"dataframe\">\n",
       "  <thead>\n",
       "    <tr style=\"text-align: right;\">\n",
       "      <th></th>\n",
       "      <th>category</th>\n",
       "      <th>filename</th>\n",
       "      <th>title</th>\n",
       "      <th>content</th>\n",
       "      <th>category_id</th>\n",
       "    </tr>\n",
       "  </thead>\n",
       "  <tbody>\n",
       "    <tr>\n",
       "      <th>900</th>\n",
       "      <td>sport</td>\n",
       "      <td>246.txt</td>\n",
       "      <td>Chelsea hold Arsenal</td>\n",
       "      <td>A gripping game between Arsenal and Chelsea en...</td>\n",
       "      <td>2</td>\n",
       "    </tr>\n",
       "    <tr>\n",
       "      <th>945</th>\n",
       "      <td>sport</td>\n",
       "      <td>163.txt</td>\n",
       "      <td>Arsenal through on penalties</td>\n",
       "      <td>Arsenal win 4-2 on penaltiesThe Spanish goalke...</td>\n",
       "      <td>2</td>\n",
       "    </tr>\n",
       "    <tr>\n",
       "      <th>1004</th>\n",
       "      <td>sport</td>\n",
       "      <td>157.txt</td>\n",
       "      <td>Wenger dejected as Arsenal slump</td>\n",
       "      <td>Arsenal manager Arsene Wenger claimed their di...</td>\n",
       "      <td>2</td>\n",
       "    </tr>\n",
       "    <tr>\n",
       "      <th>1018</th>\n",
       "      <td>sport</td>\n",
       "      <td>280.txt</td>\n",
       "      <td>Mourinho takes swipe at Arsenal</td>\n",
       "      <td>Chelsea boss Jose Mourinho has attempted to pi...</td>\n",
       "      <td>2</td>\n",
       "    </tr>\n",
       "    <tr>\n",
       "      <th>1053</th>\n",
       "      <td>sport</td>\n",
       "      <td>211.txt</td>\n",
       "      <td>Edu blasts Arsenal</td>\n",
       "      <td>Arsenal's Brazilian midfielder Edu has hit out...</td>\n",
       "      <td>2</td>\n",
       "    </tr>\n",
       "    <tr>\n",
       "      <th>1249</th>\n",
       "      <td>sport</td>\n",
       "      <td>268.txt</td>\n",
       "      <td>Campbell rescues Arsenal</td>\n",
       "      <td>Sol Campbell proved to be an unlikely match-wi...</td>\n",
       "      <td>2</td>\n",
       "    </tr>\n",
       "  </tbody>\n",
       "</table>\n",
       "</div>"
      ],
      "text/plain": [
       "     category filename                             title  \\\n",
       "900     sport  246.txt              Chelsea hold Arsenal   \n",
       "945     sport  163.txt      Arsenal through on penalties   \n",
       "1004    sport  157.txt  Wenger dejected as Arsenal slump   \n",
       "1018    sport  280.txt   Mourinho takes swipe at Arsenal   \n",
       "1053    sport  211.txt                Edu blasts Arsenal   \n",
       "1249    sport  268.txt          Campbell rescues Arsenal   \n",
       "\n",
       "                                                content  category_id  \n",
       "900   A gripping game between Arsenal and Chelsea en...            2  \n",
       "945   Arsenal win 4-2 on penaltiesThe Spanish goalke...            2  \n",
       "1004  Arsenal manager Arsene Wenger claimed their di...            2  \n",
       "1018  Chelsea boss Jose Mourinho has attempted to pi...            2  \n",
       "1053  Arsenal's Brazilian midfielder Edu has hit out...            2  \n",
       "1249  Sol Campbell proved to be an unlikely match-wi...            2  "
      ]
     },
     "execution_count": 10,
     "metadata": {},
     "output_type": "execute_result"
    }
   ],
   "source": [
    "dataFrame[dataFrame.title.str.contains('Arsenal')]"
   ]
  },
  {
   "cell_type": "markdown",
   "metadata": {},
   "source": [
    "## Model Training and Evaluation\n",
    "\n",
    "### Metrices\n",
    "First, it is vital to choose which metric to optimize. Accuracy  is the most commonly used metric .\n",
    "\n",
    "### Choice of model\n",
    " we will benchmark the following three models:\n",
    "\n",
    "- Logistic Regression: A linear classifier, mostly similar to traditional linear regression, but fitting the output of the logistic function.\n",
    "- (Multinomial) Naive Bayes: A Bayesian model, assuming total independence between features. In our case, this means assuming that `P(\"football\")` is unrelated to `P(\"stadium\")`, which of course is a terrible assumption... and yet, this model still works surprisingly well with Bag of Words model, and were notably used for spam detection. \n",
    "- Random Forest: Random Forest (as the name might suggest) is the ensembling of a large number of decision trees, each trained on a random subset of the input features. They work well when complex feature-relations are involved, and are relatively robust to overfitting.\n",
    "\n",
    "We usually also perform a **hyperparameter search** for each model: tuning each of its \"knobs\" (number of trees for Random Forest, penalty for Logistic Regression) until we find the optimal ones. For simplicity, we skip this step below and directly provide reasonably good parameters for each model.\n",
    "\n",
    "### Model evaluation\n",
    "One common mistake when evaluating a model is to train and test it on the same dataset: this is problematic because you this will not evaluate how well the model works in realistic conditions, on unseen data, and models that overfit to the data will seem to perform better. \n",
    "\n",
    "It is common practice to split the data in three parts:\n",
    "1. A training set that the model will be trained on.\n",
    "1. A validation set used for finding the optimal parameters (as discussed previously).\n",
    "1. A test set to evaluate the model’s performance.\n",
    "\n",
    "Since we are not performing a hyperparameter search, we will only use a train/test split.\n",
    "\n",
    "To evaluate each model, we will use the K-fold cross-validation technique: iteratively training the model on different subsets of the data, and testing against the held-out data. scikit-learn provides a utility function, `cross_val_score`, that allows us to run this operation in a single line of code!\n"
   ]
  },
  {
   "cell_type": "code",
   "execution_count": 11,
   "metadata": {},
   "outputs": [
    {
     "name": "stderr",
     "output_type": "stream",
     "text": [
      "/home/saphire/anaconda3/lib/python3.6/site-packages/sklearn/linear_model/logistic.py:433: FutureWarning: Default solver will be changed to 'lbfgs' in 0.22. Specify a solver to silence this warning.\n",
      "  FutureWarning)\n",
      "/home/saphire/anaconda3/lib/python3.6/site-packages/sklearn/linear_model/logistic.py:460: FutureWarning: Default multi_class will be changed to 'auto' in 0.22. Specify the multi_class option to silence this warning.\n",
      "  \"this warning.\", FutureWarning)\n",
      "/home/saphire/anaconda3/lib/python3.6/site-packages/sklearn/linear_model/logistic.py:433: FutureWarning: Default solver will be changed to 'lbfgs' in 0.22. Specify a solver to silence this warning.\n",
      "  FutureWarning)\n",
      "/home/saphire/anaconda3/lib/python3.6/site-packages/sklearn/linear_model/logistic.py:460: FutureWarning: Default multi_class will be changed to 'auto' in 0.22. Specify the multi_class option to silence this warning.\n",
      "  \"this warning.\", FutureWarning)\n",
      "/home/saphire/anaconda3/lib/python3.6/site-packages/sklearn/linear_model/logistic.py:433: FutureWarning: Default solver will be changed to 'lbfgs' in 0.22. Specify a solver to silence this warning.\n",
      "  FutureWarning)\n",
      "/home/saphire/anaconda3/lib/python3.6/site-packages/sklearn/linear_model/logistic.py:460: FutureWarning: Default multi_class will be changed to 'auto' in 0.22. Specify the multi_class option to silence this warning.\n",
      "  \"this warning.\", FutureWarning)\n",
      "/home/saphire/anaconda3/lib/python3.6/site-packages/sklearn/linear_model/logistic.py:433: FutureWarning: Default solver will be changed to 'lbfgs' in 0.22. Specify a solver to silence this warning.\n",
      "  FutureWarning)\n",
      "/home/saphire/anaconda3/lib/python3.6/site-packages/sklearn/linear_model/logistic.py:460: FutureWarning: Default multi_class will be changed to 'auto' in 0.22. Specify the multi_class option to silence this warning.\n",
      "  \"this warning.\", FutureWarning)\n",
      "/home/saphire/anaconda3/lib/python3.6/site-packages/sklearn/linear_model/logistic.py:433: FutureWarning: Default solver will be changed to 'lbfgs' in 0.22. Specify a solver to silence this warning.\n",
      "  FutureWarning)\n",
      "/home/saphire/anaconda3/lib/python3.6/site-packages/sklearn/linear_model/logistic.py:460: FutureWarning: Default multi_class will be changed to 'auto' in 0.22. Specify the multi_class option to silence this warning.\n",
      "  \"this warning.\", FutureWarning)\n"
     ]
    }
   ],
   "source": [
    "from sklearn.linear_model import LogisticRegression\n",
    "from sklearn.ensemble import RandomForestClassifier\n",
    "from sklearn.naive_bayes import MultinomialNB\n",
    "\n",
    "from sklearn.model_selection import cross_val_score\n",
    "\n",
    "\n",
    "models = [\n",
    "    RandomForestClassifier(n_estimators=200, max_depth=3, random_state=0),\n",
    "    MultinomialNB(),\n",
    "    LogisticRegression(random_state=0),\n",
    "]\n",
    "CV = 5\n",
    "cv_df = pd.DataFrame(index=range(CV * len(models)))\n",
    "entries = []\n",
    "for model in models:\n",
    "    model_name = model.__class__.__name__\n",
    "    accuracies = cross_val_score(model, features, labels, scoring='accuracy', cv=CV)\n",
    "    for fold_idx, accuracy in enumerate(accuracies):\n",
    "        entries.append((model_name, fold_idx, accuracy))\n",
    "cv_df = pd.DataFrame(entries, columns=['model_name', 'fold_idx', 'accuracy'])"
   ]
  },
  {
   "cell_type": "code",
   "execution_count": 12,
   "metadata": {},
   "outputs": [
    {
     "data": {
      "text/plain": [
       "model_name\n",
       "LogisticRegression        0.988908\n",
       "MultinomialNB             0.982490\n",
       "RandomForestClassifier    0.796950\n",
       "Name: accuracy, dtype: float64"
      ]
     },
     "execution_count": 12,
     "metadata": {},
     "output_type": "execute_result"
    },
    {
     "data": {
      "image/png": "[encoded data removed]",
      "text/plain": [
       "<Figure size 432x288 with 1 Axes>"
      ]
     },
     "metadata": {
      "needs_background": "light"
     },
     "output_type": "display_data"
    }
   ],
   "source": [
    "import seaborn as sns\n",
    "sns.boxplot(x='model_name', y='accuracy', data=cv_df)\n",
    "sns.stripplot(x='model_name', y='accuracy', data=cv_df, \n",
    "              size=8, jitter=True, edgecolor=\"gray\", linewidth=2)\n",
    "cv_df.groupby('model_name').accuracy.mean()"
   ]
  },
  {
   "cell_type": "markdown",
   "metadata": {},
   "source": [
    "Here we can see accusracy of LogisticRegression > MultinomialNB >>RandomForestClassifier"
   ]
  },
  {
   "cell_type": "code",
   "execution_count": 13,
   "metadata": {},
   "outputs": [
    {
     "name": "stderr",
     "output_type": "stream",
     "text": [
      "/home/saphire/anaconda3/lib/python3.6/site-packages/sklearn/linear_model/logistic.py:433: FutureWarning: Default solver will be changed to 'lbfgs' in 0.22. Specify a solver to silence this warning.\n",
      "  FutureWarning)\n",
      "/home/saphire/anaconda3/lib/python3.6/site-packages/sklearn/linear_model/logistic.py:460: FutureWarning: Default multi_class will be changed to 'auto' in 0.22. Specify the multi_class option to silence this warning.\n",
      "  \"this warning.\", FutureWarning)\n"
     ]
    },
    {
     "data": {
      "text/plain": [
       "Text(0.5, 15.0, 'Predicted')"
      ]
     },
     "execution_count": 13,
     "metadata": {},
     "output_type": "execute_result"
    },
    {
     "data": {
      "image/png": "[encoded data removed]",
      "text/plain": [
       "<Figure size 432x288 with 2 Axes>"
      ]
     },
     "metadata": {
      "needs_background": "light"
     },
     "output_type": "display_data"
    }
   ],
   "source": [
    "from sklearn.model_selection import train_test_split\n",
    "model=LogisticRegression(random_state=0)\n",
    "X_train,X_test,y_train,y_test,indices_train,indices_test=train_test_split(features,labels,dataFrame.index,test_size=0.3,random_state=0)\n",
    "model.fit(X_train,y_train)\n",
    "y_pred_proba=model.predict_proba(X_test)\n",
    "y_pred=model.predict(X_test)\n",
    "\n",
    "from sklearn.metrics import confusion_matrix\n",
    "conf_mat=confusion_matrix(y_test,y_pred)\n",
    "sns.heatmap(conf_mat,annot=True,fmt='d',xticklabels=category_id_dataFrame.category.values,yticklabels=category_id_dataFrame.category.values)\n",
    "plt.ylabel('Actual')\n",
    "plt.xlabel('Predicted')\n"
   ]
  },
  {
   "cell_type": "markdown",
   "metadata": {},
   "source": [
    "Crosschecking :"
   ]
  },
  {
   "cell_type": "code",
   "execution_count": 14,
   "metadata": {},
   "outputs": [],
   "source": [
    "from IPython.display import display\n",
    "\n",
    "for predicted in category_id_dataFrame.category_id:\n",
    "    for actual in category_id_dataFrame.category_id:\n",
    "        if predicted != actual and conf_mat[actual, predicted] >= 2:\n",
    "            print(\"'{}' predicted as '{}' : {} examples.\".format(id_to_category[actual], id_to_category[predicted], conf_mat[actual, predicted]))\n",
    "            display(df.loc[indices_test[(y_test == actual) & (y_pred == predicted)]][['title', 'content']])\n",
    "            #print('')\n",
    "            "
   ]
  },
  {
   "cell_type": "code",
   "execution_count": 15,
   "metadata": {},
   "outputs": [
    {
     "name": "stdout",
     "output_type": "stream",
     "text": [
      "# 'entertainment':\n",
      "  . Top unigrams:\n",
      "       . film\n",
      "       . singer\n",
      "       . music\n",
      "       . band\n",
      "       . album\n",
      "  . Top bigrams:\n",
      "       . box office\n",
      "       . los angeles\n",
      "       . new york\n",
      "       . film festival\n",
      "       . ticket sales\n",
      "# 'politics':\n",
      "  . Top unigrams:\n",
      "       . government\n",
      "       . mr\n",
      "       . labour\n",
      "       . party\n",
      "       . minister\n",
      "  . Top bigrams:\n",
      "       . mr blair\n",
      "       . prime minister\n",
      "       . tony blair\n",
      "       . general election\n",
      "       . mr brown\n",
      "# 'sport':\n",
      "  . Top unigrams:\n",
      "       . club\n",
      "       . match\n",
      "       . cup\n",
      "       . team\n",
      "       . win\n",
      "  . Top bigrams:\n",
      "       . year old\n",
      "       . australian open\n",
      "       . champions league\n",
      "       . manchester united\n",
      "       . world number\n",
      "# 'tech':\n",
      "  . Top unigrams:\n",
      "       . technology\n",
      "       . computer\n",
      "       . users\n",
      "       . software\n",
      "       . online\n",
      "  . Top bigrams:\n",
      "       . said mr\n",
      "       . news website\n",
      "       . mobile phone\n",
      "       . bbc news\n",
      "       . mobile phones\n"
     ]
    },
    {
     "name": "stderr",
     "output_type": "stream",
     "text": [
      "/home/saphire/anaconda3/lib/python3.6/site-packages/sklearn/linear_model/logistic.py:433: FutureWarning: Default solver will be changed to 'lbfgs' in 0.22. Specify a solver to silence this warning.\n",
      "  FutureWarning)\n",
      "/home/saphire/anaconda3/lib/python3.6/site-packages/sklearn/linear_model/logistic.py:460: FutureWarning: Default multi_class will be changed to 'auto' in 0.22. Specify the multi_class option to silence this warning.\n",
      "  \"this warning.\", FutureWarning)\n"
     ]
    }
   ],
   "source": [
    "model.fit(features, labels)\n",
    "\n",
    "from sklearn.feature_selection import chi2\n",
    "\n",
    "N = 5\n",
    "for category, category_id in sorted(category_to_id.items()):\n",
    "    indices = np.argsort(model.coef_[category_id])\n",
    "    feature_names = np.array(tfidf.get_feature_names())[indices]\n",
    "    unigrams = [v for v in reversed(feature_names) if len(v.split(' ')) == 1][:N]\n",
    "    bigrams = [v for v in reversed(feature_names) if len(v.split(' ')) == 2][:N]\n",
    "    print(\"# '{}':\".format(category))\n",
    "    print(\"  . Top unigrams:\\n       . {}\".format('\\n       . '.join(unigrams)))\n",
    "    print(\"  . Top bigrams:\\n       . {}\".format('\\n       . '.join(bigrams)))"
   ]
  },
  {
   "cell_type": "code",
   "execution_count": 16,
   "metadata": {},
   "outputs": [
    {
     "data": {
      "text/plain": [
       "tech             69\n",
       "politics          8\n",
       "entertainment     7\n",
       "Name: category, dtype: int64"
      ]
     },
     "execution_count": 16,
     "metadata": {},
     "output_type": "execute_result"
    }
   ],
   "source": [
    "dataFrame[dataFrame.content.str.lower().str.contains('news website')].category.value_counts()"
   ]
  },
  {
   "cell_type": "markdown",
   "metadata": {},
   "source": [
    "# Finally Using the Model to predict a small snipet of news :"
   ]
  },
  {
   "cell_type": "code",
   "execution_count": 17,
   "metadata": {},
   "outputs": [
    {
     "name": "stdout",
     "output_type": "stream",
     "text": [
      "\"Hooli stock price soared after a dip in PiedPiper revenue growth.\"\n",
      "  - Predicted as: 'sport'\n",
      "\n",
      "\"Captain Tsubasa scores a magnificent goal for the Japanese team.\"\n",
      "  - Predicted as: 'sport'\n",
      "\n",
      "\"Merryweather mercenaries are sent on another mission, as government oversight groups call for new sanctions.\"\n",
      "  - Predicted as: 'politics'\n",
      "\n",
      "\"Beyoncé releases a new album, tops the charts in all of south-east Asia!\"\n",
      "  - Predicted as: 'entertainment'\n",
      "\n",
      "\"You won't guess what the latest trend in data analysis is!\"\n",
      "  - Predicted as: 'tech'\n",
      "\n"
     ]
    }
   ],
   "source": [
    "texts = [\"Hooli stock price soared after a dip in PiedPiper revenue growth.\",\n",
    "         \"Captain Tsubasa scores a magnificent goal for the Japanese team.\",\n",
    "         \"Merryweather mercenaries are sent on another mission, as government oversight groups call for new sanctions.\",\n",
    "         \"Beyoncé releases a new album, tops the charts in all of south-east Asia!\",\n",
    "         \"You won't guess what the latest trend in data analysis is!\"]\n",
    "text_features = tfidf.transform(texts)\n",
    "predictions = model.predict(text_features)\n",
    "for text, predicted in zip(texts, predictions):\n",
    "    print('\"{}\"'.format(text))\n",
    "    print(\"  - Predicted as: '{}'\".format(id_to_categories[predicted]))\n",
    "    print(\"\")"
   ]
  }
 ],
 "metadata": {
  "kernelspec": {
   "display_name": "Python 3",
   "language": "python",
   "name": "python3"
  },
  "language_info": {
   "codemirror_mode": {
    "name": "ipython",
    "version": 3
   },
   "file_extension": ".py",
   "mimetype": "text/x-python",
   "name": "python",
   "nbconvert_exporter": "python",
   "pygments_lexer": "ipython3",
   "version": "3.6.6"
  }
 },
 "nbformat": 4,
 "nbformat_minor": 2
}
