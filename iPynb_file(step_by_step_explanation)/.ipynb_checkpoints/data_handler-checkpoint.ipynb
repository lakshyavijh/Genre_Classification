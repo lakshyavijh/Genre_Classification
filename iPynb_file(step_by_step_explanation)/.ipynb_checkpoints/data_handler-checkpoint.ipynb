{
 "cells": [
  {
   "cell_type": "code",
   "execution_count": 1,
   "metadata": {},
   "outputs": [
    {
     "name": "stdout",
     "output_type": "stream",
     "text": [
      "Getting files..\n",
      "buisness type files\n",
      "entertainment type files\n",
      "politics type files\n",
      "sport type files\n",
      " tech type files\n"
     ]
    }
   ],
   "source": [
    "#importing Libraries\n",
    "import pandas as pd  #for Dataframe\n",
    "import glob #for reading dataset files \n",
    "\n",
    "#Datapreprocessing part\n",
    "print(\"Getting files..\")\n",
    "print(\"buisness type files\")\n",
    "buisness=(glob.glob(\"../data/buisness/*.txt\"))\n",
    "\n",
    "print(\"entertainment type files\")\n",
    "\n",
    "entertainment=(glob.glob(\"../data/entertainment/*.txt\"))\n",
    "print(\"politics type files\")\n",
    "politics=(glob.glob(\"../data/politics/*.txt\"))\n",
    "\n",
    "print(\"sport type files\")\n",
    "sport=(glob.glob(\"../data/sport/*.txt\"))\n",
    "\n",
    "print(\" tech type files\")\n",
    "tech=(glob.glob(\"../data/tech/*.txt\"))\n",
    "\n",
    "#meta veriables for the Dataframe\n",
    "category = []\n",
    "filename =[]\n",
    "title = []\n",
    "content = []\n"
   ]
  }
 ],
 "metadata": {
  "kernelspec": {
   "display_name": "Python 3",
   "language": "python",
   "name": "python3"
  },
  "language_info": {
   "codemirror_mode": {
    "name": "ipython",
    "version": 3
   },
   "file_extension": ".py",
   "mimetype": "text/x-python",
   "name": "python",
   "nbconvert_exporter": "python",
   "pygments_lexer": "ipython3",
   "version": "3.6.6"
  }
 },
 "nbformat": 4,
 "nbformat_minor": 2
}
