{
 "cells": [
  {
   "cell_type": "code",
   "execution_count": 11,
   "metadata": {},
   "outputs": [
    {
     "name": "stdout",
     "output_type": "stream",
     "text": [
      "Getting files..\n",
      "buisness type files\n",
      "entertainment type files\n",
      "politics type files\n",
      "sport type files\n",
      " tech type files\n"
     ]
    }
   ],
   "source": [
    "#importing Libraries\n",
    "from datetime import datetime\n",
    "start =datetime.now()\n",
    "\n",
    "import pandas as pd  #for Dataframe\n",
    "import glob #for reading dataset files \n",
    "\n",
    "#Datapreprocessing part\n",
    "print(\"Getting files..\")\n",
    "print(\"buisness type files\")\n",
    "buisness=(glob.glob(\"../data/buisness/*.txt\"))\n",
    "\n",
    "print(\"entertainment type files\")\n",
    "\n",
    "entertainment=(glob.glob(\"../data/entertainment/*.txt\"))\n",
    "print(\"politics type files\")\n",
    "politics=(glob.glob(\"../data/politics/*.txt\"))\n",
    "\n",
    "print(\"sport type files\")\n",
    "sport=(glob.glob(\"../data/sport/*.txt\"))\n",
    "\n",
    "print(\" tech type files\")\n",
    "tech=(glob.glob(\"../data/tech/*.txt\"))\n",
    "\n",
    "#meta veriables for the Dataframe\n",
    "category = []\n",
    "file_name =[]\n",
    "title = []\n",
    "content = []\n"
   ]
  },
  {
   "cell_type": "code",
   "execution_count": 7,
   "metadata": {},
   "outputs": [
    {
     "name": "stdout",
     "output_type": "stream",
     "text": [
      "Creating business data...\n",
      "Creating entertainment data...\n",
      "Creating politics data...\n",
      "Creating sport data...\n",
      "ERROR!\n",
      "sport\n",
      "Mourinho expects fight to finish\n",
      "../data/sport/199.txt\n",
      "Chelsea manager Jose Mourinho expects the Champions League clash with Barcelona to be a fight to the finish.Mourinho is relishing the first leg of the tie against his former club in the last 16 in the Nou Camp. He said: \"I wouldn't be surprised if nothing had been decided by the last minute of the return leg and the match had to go into extra time. \"I have to defend what is mine and the Champions League is mine at the moment. I'm the last manager to have won it.\" Mourinho never coached Barcelona, assisting both Sir Bobby Robson and Louis van Gaal. But he is not envious, insisting: \"I don't have to be jealous about Barcelona because they have 100 years of history and have won the European Cup once.\"I have been managing for five years and I have the same amount of Champions League trophies to my name.\" Barcelona star Ronaldinho admitted: \"I think that it is going to be a difficult match for us because Chelsea have a good team full of big stars. \"I have seen Chelsea a few times on television, tactically they are very good and they are very strong on the counter-attack. \"They pressure very well and keep possession of the ball so it will be important that we play our own game. \"I believe they are the two strongest teams in Europe. Nevertheless, Barcelona are accustomed to playing big games at the Nou Camp, where they have to face the likes of Real Madrid each season. \"It is a special game, the atmosphere in the city changes, there are lots of journalists but inside the dressing room there is not a lot of difference,\" Ronaldinho added. \"We are only thinking of winning the match with all respect to the opposition.\"\n",
      "183.txt\n",
      "Mourinho expects fight to finish\n",
      "Chelsea manager Jose Mourinho expects the Champions League clash with Barcelona to be a fight to the finish.Mourinho is relishing the first leg of the tie against his former club in the last 16 in the Nou Camp. He said: \"I wouldn't be surprised if nothing had been decided by the last minute of the return leg and the match had to go into extra time. \"I have to defend what is mine and the Champions League is mine at the moment. I'm the last manager to have won it.\" Mourinho never coached Barcelona, assisting both Sir Bobby Robson and Louis van Gaal. But he is not envious, insisting: \"I don't have to be jealous about Barcelona because they have 100 years of history and have won the European Cup once.\"I have been managing for five years and I have the same amount of Champions League trophies to my name.\" Barcelona star Ronaldinho admitted: \"I think that it is going to be a difficult match for us because Chelsea have a good team full of big stars. \"I have seen Chelsea a few times on television, tactically they are very good and they are very strong on the counter-attack. \"They pressure very well and keep possession of the ball so it will be important that we play our own game. \"I believe they are the two strongest teams in Europe. Nevertheless, Barcelona are accustomed to playing big games at the Nou Camp, where they have to face the likes of Real Madrid each season. \"It is a special game, the atmosphere in the city changes, there are lots of journalists but inside the dressing room there is not a lot of difference,\" Ronaldinho added. \"We are only thinking of winning the match with all respect to the opposition.\"\n",
      "'utf-8' codec can't decode byte 0xa3 in position 257: invalid start byte\n",
      "Creating tech data...\n",
      "Cate\tFile\tTitle\tContent\n",
      "5142\t5142\t5142\t5142\n"
     ]
    }
   ],
   "source": [
    "def Create_Data(cate):\n",
    "    #Filter\n",
    "    \n",
    "    print(\"Creating \"+cate+\" data...\")\n",
    "    if(cate is 'business'):\n",
    "        field = buisness\n",
    "    if(cate is 'entertainment'):\n",
    "        field = entertainment\n",
    "    if(cate is 'politics'):\n",
    "        field = politics\n",
    "    if(cate is 'sport'):\n",
    "        field = sport\n",
    "    if(cate is 'tech'):\n",
    "        field = tech\n",
    "    for textfile in field:\n",
    "        try :\n",
    "            with open(textfile) as f:\n",
    "                rawcontentarray = f.read().splitlines()\n",
    "                rawcontent = \"\"\n",
    "                title.append(rawcontentarray[0])\n",
    "                for i in range(2,len(rawcontentarray)):\n",
    "                    rawcontent+=rawcontentarray[i]\n",
    "                content.append(rawcontent)\n",
    "                category.append(cate)\n",
    "                file_name.append(textfile[textfile.rfind('/')+1:])\n",
    "        except Exception as error:\n",
    "            print(\"ERROR!\")\n",
    "            print(cate)\n",
    "            print(rawcontentarray[0])\n",
    "            print(textfile)\n",
    "            print(rawcontent)\n",
    "            print(file_name[-1])\n",
    "            print(title[-1])\n",
    "            print(content[-1])\n",
    "            print(error)\n",
    "\n",
    "Create_Data(\"business\")\n",
    "Create_Data(\"entertainment\")\n",
    "Create_Data(\"politics\")\n",
    "Create_Data(\"sport\")\n",
    "Create_Data(\"tech\")\n",
    "\n",
    "print(\"Cate\\tFile\\tTitle\\tContent\")\n",
    "print(str(len(category))+\"\\t\"+str(len(file_name))+\"\\t\"+str(len(title))+\"\\t\"+str(len(content)))"
   ]
  },
  {
   "cell_type": "code",
   "execution_count": 9,
   "metadata": {},
   "outputs": [
    {
     "name": "stdout",
     "output_type": "stream",
     "text": [
      "Data creation Successfull !\n",
      "Importing Data ...\n",
      "Exporting Data\n",
      "Done\n"
     ]
    }
   ],
   "source": [
    "#check extractedData\n",
    "if (len(category)==len(file_name)==len(title)==len(content)):\n",
    "    print(\"Data creation Successfull !\")\n",
    "else :\n",
    "    print(\"Unsuccessfull data Creation !\")\n",
    "#import data to dataset\n",
    "print(\"Importing Data ...\")\n",
    "dataSet=list(zip(category,file_name,title,content))\n",
    "dataFrame=pd.DataFrame(data=dataSet,columns=['category','filename','title','content'])\n",
    "print(\"Exporting Data\")\n",
    "dataFrame.to_csv('data.csv',index=False,header=True)\n",
    "print(\"Done\")"
   ]
  },
  {
   "cell_type": "code",
   "execution_count": 13,
   "metadata": {},
   "outputs": [],
   "source": [
    "createdatetime=datetime.now()-start\n",
    "dataFrame['category_id']=dataFrame['category'].factorize()[0]\n",
    "category_id_dataFrame=dataFrame[['category','category_id']].drop_duplicates().sort_values('category_id')\n",
    "category_to_id=dict(category_id_dataFrame.values)\n",
    "id_to_categories=dict(category_id_dataFrame[['category_id','category']].values)\n"
   ]
  },
  {
   "cell_type": "markdown",
   "metadata": {},
   "source": [
    "Data Exploration\n",
    "---"
   ]
  },
  {
   "cell_type": "code",
   "execution_count": 15,
   "metadata": {},
   "outputs": [
    {
     "data": {
      "text/html": [
       "<div>\n",
       "<style scoped>\n",
       "    .dataframe tbody tr th:only-of-type {\n",
       "        vertical-align: middle;\n",
       "    }\n",
       "\n",
       "    .dataframe tbody tr th {\n",
       "        vertical-align: top;\n",
       "    }\n",
       "\n",
       "    .dataframe thead th {\n",
       "        text-align: right;\n",
       "    }\n",
       "</style>\n",
       "<table border=\"1\" class=\"dataframe\">\n",
       "  <thead>\n",
       "    <tr style=\"text-align: right;\">\n",
       "      <th></th>\n",
       "      <th>category</th>\n",
       "      <th>filename</th>\n",
       "      <th>title</th>\n",
       "      <th>content</th>\n",
       "      <th>category_id</th>\n",
       "    </tr>\n",
       "  </thead>\n",
       "  <tbody>\n",
       "    <tr>\n",
       "      <th>0</th>\n",
       "      <td>entertainment</td>\n",
       "      <td>288.txt</td>\n",
       "      <td>Rapper 50 Cent ends protege feud</td>\n",
       "      <td>Rapper 50 Cent has ended his public feud with ...</td>\n",
       "      <td>0</td>\n",
       "    </tr>\n",
       "    <tr>\n",
       "      <th>1</th>\n",
       "      <td>entertainment</td>\n",
       "      <td>230.txt</td>\n",
       "      <td>Aaliyah claim dismissed by court</td>\n",
       "      <td>Late R&amp;B star Aaliyah's record company has fai...</td>\n",
       "      <td>0</td>\n",
       "    </tr>\n",
       "    <tr>\n",
       "      <th>2</th>\n",
       "      <td>entertainment</td>\n",
       "      <td>152.txt</td>\n",
       "      <td>Beatles suits sell for $110,000</td>\n",
       "      <td>Four suits worn by the Beatles on their Please...</td>\n",
       "      <td>0</td>\n",
       "    </tr>\n",
       "    <tr>\n",
       "      <th>3</th>\n",
       "      <td>entertainment</td>\n",
       "      <td>326.txt</td>\n",
       "      <td>Oscars steer clear of controversy</td>\n",
       "      <td>The Oscars nominations list has left out some ...</td>\n",
       "      <td>0</td>\n",
       "    </tr>\n",
       "    <tr>\n",
       "      <th>4</th>\n",
       "      <td>entertainment</td>\n",
       "      <td>373.txt</td>\n",
       "      <td>British stars denied major Oscars</td>\n",
       "      <td>British hopes of winning major Oscars were das...</td>\n",
       "      <td>0</td>\n",
       "    </tr>\n",
       "  </tbody>\n",
       "</table>\n",
       "</div>"
      ],
      "text/plain": [
       "        category filename                              title  \\\n",
       "0  entertainment  288.txt   Rapper 50 Cent ends protege feud   \n",
       "1  entertainment  230.txt   Aaliyah claim dismissed by court   \n",
       "2  entertainment  152.txt    Beatles suits sell for $110,000   \n",
       "3  entertainment  326.txt  Oscars steer clear of controversy   \n",
       "4  entertainment  373.txt  British stars denied major Oscars   \n",
       "\n",
       "                                             content  category_id  \n",
       "0  Rapper 50 Cent has ended his public feud with ...            0  \n",
       "1  Late R&B star Aaliyah's record company has fai...            0  \n",
       "2  Four suits worn by the Beatles on their Please...            0  \n",
       "3  The Oscars nominations list has left out some ...            0  \n",
       "4  British hopes of winning major Oscars were das...            0  "
      ]
     },
     "execution_count": 15,
     "metadata": {},
     "output_type": "execute_result"
    },
    {
     "data": {
      "image/png": "[encoded data removed]",
      "text/plain": [
       "<Figure size 432x288 with 1 Axes>"
      ]
     },
     "metadata": {
      "needs_background": "light"
     },
     "output_type": "display_data"
    }
   ],
   "source": [
    "dataFrame.sample(5,random_state=0)\n",
    "dataFrame.groupby('category').filename.count().plot.bar(ylim=0)\n",
    "dataFrame.head()"
   ]
  },
  {
   "cell_type": "markdown",
   "metadata": {},
   "source": [
    "Data Preprocessing\n",
    "---\n",
    "in this part we convert the text of the documents to find Term Frequency , Inverse Document Frequency , abbreviated to tf-idf ; which will represent a words' importance in each document.\n",
    "\n",
    "`sublinear_df` is set to `True` to use log form for frequency , to give diminishing returns as the frequency of a word increases.\n",
    "\n",
    "`min_dif` is the min. numbers of documents a word must be present in to be kept , this is to avoid rare words \n",
    "\n",
    "`norm` is set to `12`\n",
    "\n",
    "`encoding` is set to `latin-1` which is used in the training document.\n",
    "\n",
    "`ngram_rage` is set to `(1,2)` to indicate that we want to consider both unigrams and bigrams or in other terms \n",
    "\n",
    "`stop_words` is set to `english` to remove all common pronouns and further reduce the number of noisy features.\n",
    "\n"
   ]
  },
  {
   "cell_type": "code",
   "execution_count": 17,
   "metadata": {},
   "outputs": [
    {
     "data": {
      "text/plain": [
       "(5142, 64357)"
      ]
     },
     "execution_count": 17,
     "metadata": {},
     "output_type": "execute_result"
    }
   ],
   "source": [
    "from sklearn.feature_extraction.text import TfidfVectorizer #will be used to calculate 'tf-idf' vector for each of our documents\n",
    "\n",
    "tfidf=TfidfVectorizer(sublinear_tf=True,min_df=5,norm='l2',encoding='latin-1',ngram_range=(1,2),stop_words='english')\n",
    "\n",
    "features=tfidf.fit_transform(dataFrame.content).toarray()\n",
    "labels=dataFrame.category_id\n",
    "features.shape"
   ]
  },
  {
   "cell_type": "code",
   "execution_count": 20,
   "metadata": {},
   "outputs": [
    {
     "name": "stdout",
     "output_type": "stream",
     "text": [
      "# 'entertainment':\n",
      " .Most correlated unigrams :\n",
      "     . awards\n",
      "actor\n",
      "film\n",
      " .Most correlated unigrams :\n",
      "     . film festival\n",
      "los angeles\n",
      "box office\n",
      "# 'politics':\n",
      " .Most correlated unigrams :\n",
      "     . government\n",
      "election\n",
      "labour\n",
      " .Most correlated unigrams :\n",
      "     . tony blair\n",
      "prime minister\n",
      "mr blair\n",
      "# 'sport':\n",
      " .Most correlated unigrams :\n",
      "     . coach\n",
      "match\n",
      "cup\n",
      " .Most correlated unigrams :\n",
      "     . grand slam\n",
      "australian open\n",
      "champions league\n",
      "# 'tech':\n",
      " .Most correlated unigrams :\n",
      "     . software\n",
      "technology\n",
      "users\n",
      " .Most correlated unigrams :\n",
      "     . anti virus\n",
      "mobile phones\n",
      "mobile phone\n"
     ]
    }
   ],
   "source": [
    "from sklearn.feature_selection import chi2\n",
    "import numpy as np\n",
    "\n",
    "N=3\n",
    "for category, category_id in sorted(category_to_id.items()):\n",
    "    features_chi2=chi2(features,labels==category_id)\n",
    "    indices=np.argsort(features_chi2[0])\n",
    "    features_names=np.array(tfidf.get_feature_names())[indices]\n",
    "    unigrams = [v for v in features_names if len(v.split(' '))==1]\n",
    "    bigrams = [v for v in features_names if len(v.split(' '))==2]\n",
    "    print(\"# '{}':\".format(category))\n",
    "    print(\" .Most correlated unigrams :\\n     . {}\".format('\\n'.join(unigrams[-N:])))\n",
    "    print(\" .Most correlated unigrams :\\n     . {}\".format('\\n'.join(bigrams[-N:])))"
   ]
  },
  {
   "cell_type": "code",
   "execution_count": null,
   "metadata": {},
   "outputs": [],
   "source": [
    "from sklearn.manifold import TSNE\n",
    "import matplotlib.pyplot as plt\n",
    "\n",
    "Sample_SIZE=int(len(features)*0.3)\n",
    "np.random.seed(0)\n",
    "indices = np.random.choice(range(len(features)),size=Sample_SIZE,replace=False)\n",
    "projected_features=TSNE(n_components=2,random_state=0).fit_transform(features[indices])\n",
    "colors=['pink','green','midnightblue','orange','darkgrey']\n",
    "for category,category_id in sorted(category_to_id.items()):\n",
    "    points=projected_features[(labels[indices]==category_id).values]\n",
    "    plt.scatter(points[:, 0], points[:, 1], s=30, c=colors[category_id], label=category)\n",
    "    plt.title(\"tf-idf feature vector of each article in 2D\",fontdict=dict(fontsize=15))\n",
    "    plt.legend()\n"
   ]
  }
 ],
 "metadata": {
  "kernelspec": {
   "display_name": "Python 3",
   "language": "python",
   "name": "python3"
  },
  "language_info": {
   "codemirror_mode": {
    "name": "ipython",
    "version": 3
   },
   "file_extension": ".py",
   "mimetype": "text/x-python",
   "name": "python",
   "nbconvert_exporter": "python",
   "pygments_lexer": "ipython3",
   "version": "3.6.6"
  }
 },
 "nbformat": 4,
 "nbformat_minor": 2
}
